{
 "cells": [
  {
   "cell_type": "code",
   "execution_count": 1,
   "id": "1f1de319-3f8c-4dd7-a3ae-61c9838d1b28",
   "metadata": {},
   "outputs": [],
   "source": [
    "import numpy as np\n",
    "import pandas as pd \n",
    "import os\n",
    "import matplotlib.pyplot as plt"
   ]
  },
  {
   "cell_type": "code",
   "execution_count": 2,
   "id": "afce35c1-b8ae-450d-bd63-ef33fb666365",
   "metadata": {},
   "outputs": [
    {
     "data": {
      "text/html": [
       "<div>\n",
       "<style scoped>\n",
       "    .dataframe tbody tr th:only-of-type {\n",
       "        vertical-align: middle;\n",
       "    }\n",
       "\n",
       "    .dataframe tbody tr th {\n",
       "        vertical-align: top;\n",
       "    }\n",
       "\n",
       "    .dataframe thead th {\n",
       "        text-align: right;\n",
       "    }\n",
       "</style>\n",
       "<table border=\"1\" class=\"dataframe\">\n",
       "  <thead>\n",
       "    <tr style=\"text-align: right;\">\n",
       "      <th></th>\n",
       "      <th>YearsExperience</th>\n",
       "      <th>Salary</th>\n",
       "    </tr>\n",
       "  </thead>\n",
       "  <tbody>\n",
       "    <tr>\n",
       "      <th>0</th>\n",
       "      <td>1.1</td>\n",
       "      <td>33234</td>\n",
       "    </tr>\n",
       "    <tr>\n",
       "      <th>1</th>\n",
       "      <td>1.5</td>\n",
       "      <td>40102</td>\n",
       "    </tr>\n",
       "    <tr>\n",
       "      <th>2</th>\n",
       "      <td>2.4</td>\n",
       "      <td>45435</td>\n",
       "    </tr>\n",
       "    <tr>\n",
       "      <th>3</th>\n",
       "      <td>2.8</td>\n",
       "      <td>54757</td>\n",
       "    </tr>\n",
       "    <tr>\n",
       "      <th>4</th>\n",
       "      <td>2.8</td>\n",
       "      <td>57577</td>\n",
       "    </tr>\n",
       "    <tr>\n",
       "      <th>5</th>\n",
       "      <td>2.9</td>\n",
       "      <td>56642</td>\n",
       "    </tr>\n",
       "    <tr>\n",
       "      <th>6</th>\n",
       "      <td>3.0</td>\n",
       "      <td>60150</td>\n",
       "    </tr>\n",
       "    <tr>\n",
       "      <th>7</th>\n",
       "      <td>3.2</td>\n",
       "      <td>54445</td>\n",
       "    </tr>\n",
       "    <tr>\n",
       "      <th>8</th>\n",
       "      <td>3.2</td>\n",
       "      <td>45454</td>\n",
       "    </tr>\n",
       "    <tr>\n",
       "      <th>9</th>\n",
       "      <td>3.7</td>\n",
       "      <td>57189</td>\n",
       "    </tr>\n",
       "  </tbody>\n",
       "</table>\n",
       "</div>"
      ],
      "text/plain": [
       "   YearsExperience  Salary\n",
       "0              1.1   33234\n",
       "1              1.5   40102\n",
       "2              2.4   45435\n",
       "3              2.8   54757\n",
       "4              2.8   57577\n",
       "5              2.9   56642\n",
       "6              3.0   60150\n",
       "7              3.2   54445\n",
       "8              3.2   45454\n",
       "9              3.7   57189"
      ]
     },
     "execution_count": 2,
     "metadata": {},
     "output_type": "execute_result"
    }
   ],
   "source": [
    "salary=pd.read_csv('D:/salary.csv')\n",
    "salary.head(10)"
   ]
  },
  {
   "cell_type": "code",
   "execution_count": 3,
   "id": "80a74be6-1198-4a2a-8613-8c91be2adc9d",
   "metadata": {},
   "outputs": [
    {
     "data": {
      "text/html": [
       "<div>\n",
       "<style scoped>\n",
       "    .dataframe tbody tr th:only-of-type {\n",
       "        vertical-align: middle;\n",
       "    }\n",
       "\n",
       "    .dataframe tbody tr th {\n",
       "        vertical-align: top;\n",
       "    }\n",
       "\n",
       "    .dataframe thead th {\n",
       "        text-align: right;\n",
       "    }\n",
       "</style>\n",
       "<table border=\"1\" class=\"dataframe\">\n",
       "  <thead>\n",
       "    <tr style=\"text-align: right;\">\n",
       "      <th></th>\n",
       "      <th>YearsExperience</th>\n",
       "    </tr>\n",
       "  </thead>\n",
       "  <tbody>\n",
       "    <tr>\n",
       "      <th>0</th>\n",
       "      <td>1.1</td>\n",
       "    </tr>\n",
       "    <tr>\n",
       "      <th>1</th>\n",
       "      <td>1.5</td>\n",
       "    </tr>\n",
       "    <tr>\n",
       "      <th>2</th>\n",
       "      <td>2.4</td>\n",
       "    </tr>\n",
       "    <tr>\n",
       "      <th>3</th>\n",
       "      <td>2.8</td>\n",
       "    </tr>\n",
       "    <tr>\n",
       "      <th>4</th>\n",
       "      <td>2.8</td>\n",
       "    </tr>\n",
       "    <tr>\n",
       "      <th>5</th>\n",
       "      <td>2.9</td>\n",
       "    </tr>\n",
       "    <tr>\n",
       "      <th>6</th>\n",
       "      <td>3.0</td>\n",
       "    </tr>\n",
       "    <tr>\n",
       "      <th>7</th>\n",
       "      <td>3.2</td>\n",
       "    </tr>\n",
       "    <tr>\n",
       "      <th>8</th>\n",
       "      <td>3.2</td>\n",
       "    </tr>\n",
       "    <tr>\n",
       "      <th>9</th>\n",
       "      <td>3.7</td>\n",
       "    </tr>\n",
       "    <tr>\n",
       "      <th>10</th>\n",
       "      <td>3.9</td>\n",
       "    </tr>\n",
       "    <tr>\n",
       "      <th>11</th>\n",
       "      <td>4.0</td>\n",
       "    </tr>\n",
       "    <tr>\n",
       "      <th>12</th>\n",
       "      <td>4.0</td>\n",
       "    </tr>\n",
       "    <tr>\n",
       "      <th>13</th>\n",
       "      <td>4.1</td>\n",
       "    </tr>\n",
       "    <tr>\n",
       "      <th>14</th>\n",
       "      <td>4.5</td>\n",
       "    </tr>\n",
       "    <tr>\n",
       "      <th>15</th>\n",
       "      <td>4.9</td>\n",
       "    </tr>\n",
       "    <tr>\n",
       "      <th>16</th>\n",
       "      <td>5.1</td>\n",
       "    </tr>\n",
       "    <tr>\n",
       "      <th>17</th>\n",
       "      <td>5.3</td>\n",
       "    </tr>\n",
       "    <tr>\n",
       "      <th>18</th>\n",
       "      <td>5.9</td>\n",
       "    </tr>\n",
       "    <tr>\n",
       "      <th>19</th>\n",
       "      <td>6.0</td>\n",
       "    </tr>\n",
       "    <tr>\n",
       "      <th>20</th>\n",
       "      <td>6.8</td>\n",
       "    </tr>\n",
       "    <tr>\n",
       "      <th>21</th>\n",
       "      <td>7.1</td>\n",
       "    </tr>\n",
       "    <tr>\n",
       "      <th>22</th>\n",
       "      <td>7.9</td>\n",
       "    </tr>\n",
       "    <tr>\n",
       "      <th>23</th>\n",
       "      <td>8.2</td>\n",
       "    </tr>\n",
       "    <tr>\n",
       "      <th>24</th>\n",
       "      <td>8.7</td>\n",
       "    </tr>\n",
       "    <tr>\n",
       "      <th>25</th>\n",
       "      <td>9.0</td>\n",
       "    </tr>\n",
       "    <tr>\n",
       "      <th>26</th>\n",
       "      <td>9.5</td>\n",
       "    </tr>\n",
       "    <tr>\n",
       "      <th>27</th>\n",
       "      <td>9.6</td>\n",
       "    </tr>\n",
       "    <tr>\n",
       "      <th>28</th>\n",
       "      <td>10.3</td>\n",
       "    </tr>\n",
       "  </tbody>\n",
       "</table>\n",
       "</div>"
      ],
      "text/plain": [
       "    YearsExperience\n",
       "0               1.1\n",
       "1               1.5\n",
       "2               2.4\n",
       "3               2.8\n",
       "4               2.8\n",
       "5               2.9\n",
       "6               3.0\n",
       "7               3.2\n",
       "8               3.2\n",
       "9               3.7\n",
       "10              3.9\n",
       "11              4.0\n",
       "12              4.0\n",
       "13              4.1\n",
       "14              4.5\n",
       "15              4.9\n",
       "16              5.1\n",
       "17              5.3\n",
       "18              5.9\n",
       "19              6.0\n",
       "20              6.8\n",
       "21              7.1\n",
       "22              7.9\n",
       "23              8.2\n",
       "24              8.7\n",
       "25              9.0\n",
       "26              9.5\n",
       "27              9.6\n",
       "28             10.3"
      ]
     },
     "execution_count": 3,
     "metadata": {},
     "output_type": "execute_result"
    }
   ],
   "source": [
    "x=salary.iloc[:,:-1]\n",
    "x"
   ]
  },
  {
   "cell_type": "code",
   "execution_count": 4,
   "id": "96a9adc6-8679-4305-947b-ea4d8ec9f85d",
   "metadata": {},
   "outputs": [
    {
     "data": {
      "text/plain": [
       "array([[ 1.1],\n",
       "       [ 1.5],\n",
       "       [ 2.4],\n",
       "       [ 2.8],\n",
       "       [ 2.8],\n",
       "       [ 2.9],\n",
       "       [ 3. ],\n",
       "       [ 3.2],\n",
       "       [ 3.2],\n",
       "       [ 3.7],\n",
       "       [ 3.9],\n",
       "       [ 4. ],\n",
       "       [ 4. ],\n",
       "       [ 4.1],\n",
       "       [ 4.5],\n",
       "       [ 4.9],\n",
       "       [ 5.1],\n",
       "       [ 5.3],\n",
       "       [ 5.9],\n",
       "       [ 6. ],\n",
       "       [ 6.8],\n",
       "       [ 7.1],\n",
       "       [ 7.9],\n",
       "       [ 8.2],\n",
       "       [ 8.7],\n",
       "       [ 9. ],\n",
       "       [ 9.5],\n",
       "       [ 9.6],\n",
       "       [10.3]])"
      ]
     },
     "execution_count": 4,
     "metadata": {},
     "output_type": "execute_result"
    }
   ],
   "source": [
    "x=salary.iloc[:,:-1].values\n",
    "x"
   ]
  },
  {
   "cell_type": "code",
   "execution_count": 5,
   "id": "968ac9ec-87dd-41a7-9558-8407421afd7a",
   "metadata": {},
   "outputs": [
    {
     "data": {
      "text/plain": [
       "array([ 33234,  40102,  45435,  54757,  57577,  56642,  60150,  54445,\n",
       "        45454,  57189,  63218,  55794,  56957,  57081,  61111,  67938,\n",
       "        66029,  83088,  81363,  93940,  91738,  98273, 101302, 113812,\n",
       "       109431, 105582, 116969, 112635, 122391], dtype=int64)"
      ]
     },
     "execution_count": 5,
     "metadata": {},
     "output_type": "execute_result"
    }
   ],
   "source": [
    "y=salary.iloc[:,-1].values\n",
    "y"
   ]
  },
  {
   "cell_type": "code",
   "execution_count": 6,
   "id": "2c15229e-fa40-4793-b1cf-dbcd5ef26156",
   "metadata": {},
   "outputs": [
    {
     "data": {
      "image/png": "[encoded data removed]",
      "text/plain": [
       "<Figure size 640x480 with 1 Axes>"
      ]
     },
     "metadata": {},
     "output_type": "display_data"
    }
   ],
   "source": [
    "plt.plot(x,y)\n",
    "plt.show()"
   ]
  },
  {
   "cell_type": "code",
   "execution_count": 7,
   "id": "50f3ba44-8490-472f-89b4-5b70b9faf7fa",
   "metadata": {},
   "outputs": [
    {
     "data": {
      "text/plain": [
       "[array([[ 5.9],\n",
       "        [10.3],\n",
       "        [ 4.5],\n",
       "        [ 6.8],\n",
       "        [ 2.8],\n",
       "        [ 2.9],\n",
       "        [ 7.1],\n",
       "        [ 4.1],\n",
       "        [ 2.8],\n",
       "        [ 9.6],\n",
       "        [ 4.9],\n",
       "        [ 8.7],\n",
       "        [ 1.1],\n",
       "        [ 7.9],\n",
       "        [ 2.4],\n",
       "        [ 8.2],\n",
       "        [ 6. ],\n",
       "        [ 3.7],\n",
       "        [ 4. ],\n",
       "        [ 3.2],\n",
       "        [ 3.2]]),\n",
       " array([[9.5],\n",
       "        [3. ],\n",
       "        [9. ],\n",
       "        [3.9],\n",
       "        [5.1],\n",
       "        [4. ],\n",
       "        [1.5],\n",
       "        [5.3]])]"
      ]
     },
     "execution_count": 7,
     "metadata": {},
     "output_type": "execute_result"
    }
   ],
   "source": [
    "from sklearn.model_selection import train_test_split\n",
    "train_test_split(x)"
   ]
  },
  {
   "cell_type": "code",
   "execution_count": 8,
   "id": "6cd8cbe8-ef1a-48a2-8e45-8702a189bc79",
   "metadata": {},
   "outputs": [],
   "source": [
    "from sklearn.model_selection import train_test_split\n",
    "x_train,x_test,y_train,y_test=train_test_split(x,y,test_size=.20)"
   ]
  },
  {
   "cell_type": "code",
   "execution_count": 9,
   "id": "9b56a204-e3f9-456b-ab41-7dfd4cf09890",
   "metadata": {},
   "outputs": [
    {
     "data": {
      "text/plain": [
       "(23, 1)"
      ]
     },
     "execution_count": 9,
     "metadata": {},
     "output_type": "execute_result"
    }
   ],
   "source": [
    "x_train.shape"
   ]
  },
  {
   "cell_type": "code",
   "execution_count": 10,
   "id": "d0a3d010-0c5a-4029-9d36-5b6a68e4ed64",
   "metadata": {},
   "outputs": [
    {
     "data": {
      "text/plain": [
       "(6, 1)"
      ]
     },
     "execution_count": 10,
     "metadata": {},
     "output_type": "execute_result"
    }
   ],
   "source": [
    "x_test.shape"
   ]
  },
  {
   "cell_type": "code",
   "execution_count": 11,
   "id": "28d4c709-e1cd-4d1f-8538-56077948f88d",
   "metadata": {},
   "outputs": [
    {
     "data": {
      "text/plain": [
       "(23,)"
      ]
     },
     "execution_count": 11,
     "metadata": {},
     "output_type": "execute_result"
    }
   ],
   "source": [
    "y_train.shape"
   ]
  },
  {
   "cell_type": "code",
   "execution_count": 12,
   "id": "fa4c13b3-9e98-49c7-9a1f-41c0a5ae0635",
   "metadata": {},
   "outputs": [
    {
     "data": {
      "text/plain": [
       "(6,)"
      ]
     },
     "execution_count": 12,
     "metadata": {},
     "output_type": "execute_result"
    }
   ],
   "source": [
    "y_test.shape"
   ]
  },
  {
   "cell_type": "code",
   "execution_count": 13,
   "id": "2ddcd5a4-9d73-4310-ae44-c2a121ae5722",
   "metadata": {},
   "outputs": [
    {
     "name": "stdout",
     "output_type": "stream",
     "text": [
      "LinearRegression()\n"
     ]
    }
   ],
   "source": [
    "from sklearn.linear_model import LinearRegression\n",
    "lr=LinearRegression()\n",
    "lr.fit(x_train,y_train)\n",
    "print(lr)"
   ]
  },
  {
   "cell_type": "code",
   "execution_count": 14,
   "id": "4e8a94cb-7925-4308-9ddd-a04032f661f9",
   "metadata": {},
   "outputs": [
    {
     "data": {
      "text/plain": [
       "array([ 51367.66059924, 104037.36529297,  50373.89258615, 124906.49356785,\n",
       "        62299.10874323, 111987.50939769])"
      ]
     },
     "execution_count": 14,
     "metadata": {},
     "output_type": "execute_result"
    }
   ],
   "source": [
    "y_pred=lr.predict(x_test)\n",
    "y_pred"
   ]
  },
  {
   "cell_type": "code",
   "execution_count": 15,
   "id": "f5318121-9e8e-4df8-94a4-d4f9874a4ee7",
   "metadata": {},
   "outputs": [
    {
     "data": {
      "text/plain": [
       "array([ 56642, 113812,  54757, 122391,  56957, 105582], dtype=int64)"
      ]
     },
     "execution_count": 15,
     "metadata": {},
     "output_type": "execute_result"
    }
   ],
   "source": [
    "y_test"
   ]
  },
  {
   "cell_type": "code",
   "execution_count": 16,
   "id": "ade805bc-acb8-4587-87c2-db534b27b30b",
   "metadata": {},
   "outputs": [
    {
     "name": "stdout",
     "output_type": "stream",
     "text": [
      "   Experience  Salary     Prediction   Difference\n",
      "0         2.9   56642   51367.660599  5274.339401\n",
      "1         8.2  113812  104037.365293  9774.634707\n",
      "2         2.8   54757   50373.892586  4383.107414\n",
      "3        10.3  122391  124906.493568 -2515.493568\n",
      "4         4.0   56957   62299.108743 -5342.108743\n",
      "5         9.0  105582  111987.509398 -6405.509398\n"
     ]
    }
   ],
   "source": [
    "df_x_test =pd.DataFrame(x_test, columns = ['Experience'])\n",
    "df_y_test= pd.DataFrame(y_test, columns = ['Salary'])\n",
    "df_y_test_pred =  pd.DataFrame(y_pred, columns = ['Prediction'])\n",
    "df_diff =df_y_test- df_y_test_pred\n",
    "y_test_pred = pd.concat ([df_x_test ,df_y_test, df_y_test_pred ],axis =1)\n",
    "y_test_pred['Difference'] =df_y_test ['Salary']- df_y_test_pred['Prediction']\n",
    "print (y_test_pred)"
   ]
  },
  {
   "cell_type": "code",
   "execution_count": 17,
   "id": "4c7e0c67-d795-44ad-be89-c82623a33b2b",
   "metadata": {},
   "outputs": [
    {
     "name": "stdout",
     "output_type": "stream",
     "text": [
      "0.9576366747899157\n"
     ]
    }
   ],
   "source": [
    "from sklearn.metrics import r2_score\n",
    "accuracy = r2_score(y_test,y_pred)\n",
    "print (accuracy)"
   ]
  },
  {
   "cell_type": "code",
   "execution_count": 18,
   "id": "faf30967-c590-412f-9989-cd5369315e4e",
   "metadata": {},
   "outputs": [
    {
     "data": {
      "image/png": "[encoded data removed]",
      "text/plain": [
       "<Figure size 640x480 with 1 Axes>"
      ]
     },
     "metadata": {},
     "output_type": "display_data"
    }
   ],
   "source": [
    "plt.scatter (x_test, y_test)\n",
    "plt.plot (x_test, y_pred,'r')\n",
    "plt.show()"
   ]
  },
  {
   "cell_type": "code",
   "execution_count": 19,
   "id": "85ed3a9c-f4b3-4de2-9299-80630b61e77c",
   "metadata": {},
   "outputs": [
    {
     "name": "stdout",
     "output_type": "stream",
     "text": [
      "[ 33479.83636364  37454.90841599  46398.8205338   50373.89258615\n",
      "  50373.89258615  51367.66059924  52361.42861233  54348.96463851\n",
      "  54348.96463851  59317.80470396  61305.34073014  62299.10874323\n",
      "  62299.10874323  63292.87675631  67267.94880867  71243.02086103\n",
      "  73230.55688721  75218.09291339  81180.70099192  82174.46900501\n",
      "  90124.61310972  93105.91714899 101056.06125371 104037.36529297\n",
      " 109006.20535842 111987.50939769 116956.34946314 117950.11747622\n",
      " 124906.49356785]\n"
     ]
    }
   ],
   "source": [
    "y_pred_final= lr.predict (x)\n",
    "print (y_pred_final)"
   ]
  },
  {
   "cell_type": "code",
   "execution_count": 20,
   "id": "fc5d7bcf-0b36-4814-baa8-39f2740de41d",
   "metadata": {},
   "outputs": [
    {
     "name": "stdout",
     "output_type": "stream",
     "text": [
      "    YearsExperience  Salary     Prediction    Difference\n",
      "0               1.1   33234   33479.836364   -245.836364\n",
      "1               1.5   40102   37454.908416   2647.091584\n",
      "2               2.4   45435   46398.820534   -963.820534\n",
      "3               2.8   54757   50373.892586   4383.107414\n",
      "4               2.8   57577   50373.892586   7203.107414\n",
      "5               2.9   56642   51367.660599   5274.339401\n",
      "6               3.0   60150   52361.428612   7788.571388\n",
      "7               3.2   54445   54348.964639     96.035361\n",
      "8               3.2   45454   54348.964639  -8894.964639\n",
      "9               3.7   57189   59317.804704  -2128.804704\n",
      "10              3.9   63218   61305.340730   1912.659270\n",
      "11              4.0   55794   62299.108743  -6505.108743\n",
      "12              4.0   56957   62299.108743  -5342.108743\n",
      "13              4.1   57081   63292.876756  -6211.876756\n",
      "14              4.5   61111   67267.948809  -6156.948809\n",
      "15              4.9   67938   71243.020861  -3305.020861\n",
      "16              5.1   66029   73230.556887  -7201.556887\n",
      "17              5.3   83088   75218.092913   7869.907087\n",
      "18              5.9   81363   81180.700992    182.299008\n",
      "19              6.0   93940   82174.469005  11765.530995\n",
      "20              6.8   91738   90124.613110   1613.386890\n",
      "21              7.1   98273   93105.917149   5167.082851\n",
      "22              7.9  101302  101056.061254    245.938746\n",
      "23              8.2  113812  104037.365293   9774.634707\n",
      "24              8.7  109431  109006.205358    424.794642\n",
      "25              9.0  105582  111987.509398  -6405.509398\n",
      "26              9.5  116969  116956.349463     12.650537\n",
      "27              9.6  112635  117950.117476  -5315.117476\n",
      "28             10.3  122391  124906.493568  -2515.493568\n"
     ]
    }
   ],
   "source": [
    "y_pred_final = pd.DataFrame(y_pred_final,columns= ['Prediction'])\n",
    "result = pd.concat([salary,y_pred_final], axis =1)\n",
    "result['Difference'] = result['Salary'] - result['Prediction']\n",
    "print (result)\n",
    "result.to_excel(\"Predictive_LinearRegression.xlsx\")"
   ]
  },
  {
   "cell_type": "code",
   "execution_count": 21,
   "id": "58b9cbc3-b7e4-4d59-b922-8e898275b392",
   "metadata": {},
   "outputs": [
    {
     "name": "stdout",
     "output_type": "stream",
     "text": [
      "0.9549414615335409\n"
     ]
    }
   ],
   "source": [
    "from sklearn.metrics import r2_score\n",
    "accuracy = r2_score(y,y_pred_final)\n",
    "print (accuracy)"
   ]
  },
  {
   "cell_type": "code",
   "execution_count": 22,
   "id": "83944163-4fca-442f-a4a3-dbba5530bc8e",
   "metadata": {},
   "outputs": [
    {
     "data": {
      "image/png": "[encoded data removed]",
      "text/plain": [
       "<Figure size 640x480 with 1 Axes>"
      ]
     },
     "metadata": {},
     "output_type": "display_data"
    }
   ],
   "source": [
    "plt.plot(x,y)\n",
    "plt.plot(x,y_pred_final)\n",
    "plt.show()"
   ]
  },
  {
   "cell_type": "code",
   "execution_count": 23,
   "id": "729c6503-4df1-4037-a11c-986a71d32653",
   "metadata": {},
   "outputs": [
    {
     "data": {
      "text/plain": [
       "array([191488.95044483])"
      ]
     },
     "execution_count": 23,
     "metadata": {},
     "output_type": "execute_result"
    }
   ],
   "source": [
    "lr.predict([[17]])#2d array"
   ]
  },
  {
   "cell_type": "code",
   "execution_count": 24,
   "id": "ef0533ec-8f78-4cdb-8c64-eb132c040cda",
   "metadata": {},
   "outputs": [
    {
     "data": {
      "text/plain": [
       "array([211364.31070662, 131862.86965947,  97080.98920135])"
      ]
     },
     "execution_count": 24,
     "metadata": {},
     "output_type": "execute_result"
    }
   ],
   "source": [
    "lr.predict([[19],[11],[7.5]])"
   ]
  },
  {
   "cell_type": "code",
   "execution_count": null,
   "id": "ce416301-bf6f-4a59-8602-a9300fc191be",
   "metadata": {},
   "outputs": [],
   "source": []
  }
 ],
 "metadata": {
  "kernelspec": {
   "display_name": "Python 3 (ipykernel)",
   "language": "python",
   "name": "python3"
  },
  "language_info": {
   "codemirror_mode": {
    "name": "ipython",
    "version": 3
   },
   "file_extension": ".py",
   "mimetype": "text/x-python",
   "name": "python",
   "nbconvert_exporter": "python",
   "pygments_lexer": "ipython3",
   "version": "3.11.7"
  }
 },
 "nbformat": 4,
 "nbformat_minor": 5
}
